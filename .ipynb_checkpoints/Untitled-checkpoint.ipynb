{
 "cells": [
  {
   "cell_type": "code",
   "execution_count": 1,
   "id": "ee5970a6-673a-43f4-a1e3-35209e91e151",
   "metadata": {},
   "outputs": [
    {
     "name": "stdout",
     "output_type": "stream",
     "text": [
      "Reshaped data saved to reshaped_ecg_data.csv\n"
     ]
    }
   ],
   "source": [
    "import pandas as pd\n",
    "\n",
    "# Load the CSV file\n",
    "input_file = 'ecg.csv'  # Replace with your file path\n",
    "df = pd.read_csv(input_file, header=None)  # Assuming no header in the original file\n",
    "\n",
    "# Extract a specific row (e.g., row 5)\n",
    "row_index = 1  # Replace with the row index you want to extract\n",
    "extracted_row = df.iloc[row_index].values  # Extract the row as a NumPy array\n",
    "\n",
    "# Reshape the row into a column\n",
    "reshaped_column = extracted_row.reshape(-1, 1)  # Reshape to a column vector\n",
    "\n",
    "# Create a DataFrame with the reshaped column and add a header\n",
    "output_df = pd.DataFrame(reshaped_column, columns=['hart'])  # Add header 'ECG_Signal'\n",
    "\n",
    "# Save the reshaped data to a new CSV file\n",
    "output_file = 'reshaped_ecg_data.csv'\n",
    "output_df.to_csv(output_file, index=False)\n",
    "\n",
    "print(f\"Reshaped data saved to {output_file}\")"
   ]
  },
  {
   "cell_type": "code",
   "execution_count": null,
   "id": "6d7cddba-196e-47da-845b-94802cffc386",
   "metadata": {},
   "outputs": [],
   "source": []
  }
 ],
 "metadata": {
  "kernelspec": {
   "display_name": "Python (rag)",
   "language": "python",
   "name": "env_name"
  },
  "language_info": {
   "codemirror_mode": {
    "name": "ipython",
    "version": 3
   },
   "file_extension": ".py",
   "mimetype": "text/x-python",
   "name": "python",
   "nbconvert_exporter": "python",
   "pygments_lexer": "ipython3",
   "version": "3.12.1"
  }
 },
 "nbformat": 4,
 "nbformat_minor": 5
}
